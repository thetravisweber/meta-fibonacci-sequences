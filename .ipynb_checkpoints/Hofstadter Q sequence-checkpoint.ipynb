{
 "cells": [
  {
   "cell_type": "code",
   "execution_count": 2,
   "id": "1debff45",
   "metadata": {},
   "outputs": [],
   "source": [
    "import matplotlib.pyplot as plt\n",
    "import numpy as np\n",
    "import json"
   ]
  },
  {
   "cell_type": "code",
   "execution_count": 3,
   "id": "65f0accf",
   "metadata": {},
   "outputs": [],
   "source": [
    "class Entry:\n",
    "    \n",
    "    def __init__(self, index, num):\n",
    "        self.index = index\n",
    "        self.num = num\n",
    "        self.references = []\n",
    "        \n",
    "    def notify_referenced_by(self, m):\n",
    "        self.references.append(m)\n",
    "        \n",
    "    def greatest_ref(self):\n",
    "        if self.num_ref() > 0: \n",
    "            return max(self.references)\n",
    "        return 0\n",
    "    \n",
    "    def least_ref(self):\n",
    "        if self.num_ref() > 0: \n",
    "            return min(self.references)\n",
    "        return 0\n",
    "    \n",
    "    def num_ref(self):\n",
    "        return len(self.references)\n",
    "        \n",
    "    def __str__(self):\n",
    "        return str(self.index) + \": \" + str(self.num)\n",
    "    \n",
    "    def __add__(self, other):\n",
    "        return self.num + other.num"
   ]
  },
  {
   "cell_type": "code",
   "execution_count": 4,
   "id": "0aafa3b2",
   "metadata": {},
   "outputs": [],
   "source": [
    "def add_a_term(notify=True, sush=False):\n",
    "    current = len(seq) + 1\n",
    "    # python equivalent of current index\n",
    "    p_current = current - 1\n",
    "    \n",
    "    # calculate indeces [including conversions to and from 0-indexed]\n",
    "    firstIndex = p_current - seq[p_current-1].num\n",
    "    secondIndex = p_current - seq[p_current-2].num\n",
    "    \n",
    "    # Check entries are valid\n",
    "    if ((firstIndex < 0) or (secondIndex < 0)):\n",
    "        if (not sush):\n",
    "            print(\"accessing indeces \", firstIndex + 1,\", \", secondIndex + 1)\n",
    "        return False\n",
    "    \n",
    "    # notify other entries\n",
    "    if (notify):\n",
    "        try:\n",
    "            seq[firstIndex].notify_referenced_by(current)\n",
    "            seq[secondIndex].notify_referenced_by(current)\n",
    "        except:\n",
    "            print(firstIndex, secondIndex, len(seq))\n",
    "            return False\n",
    "    \n",
    "    seq.append(Entry(current, seq[firstIndex] + seq[secondIndex]))\n",
    "    return True"
   ]
  },
  {
   "cell_type": "code",
   "execution_count": 5,
   "id": "59ba4a76",
   "metadata": {},
   "outputs": [],
   "source": [
    "def add_terms(n, predict_die=False, notify=True, sush=False):\n",
    "    for _ in range(n):\n",
    "        if (not add_a_term(sush=sush)):\n",
    "            if (not sush):\n",
    "                print(\"DIED\")\n",
    "            return False\n",
    "        if (predict_die):\n",
    "            pretty_print()"
   ]
  },
  {
   "cell_type": "code",
   "execution_count": 6,
   "id": "f75b3964",
   "metadata": {},
   "outputs": [],
   "source": [
    "def pretty_print(include_index = False):\n",
    "    for ent in seq:\n",
    "        if (include_index):\n",
    "            print(ent, end = '')\n",
    "            print(str(ent.num) + \"-> \", end='')\n",
    "    print()"
   ]
  },
  {
   "cell_type": "code",
   "execution_count": 7,
   "id": "2abac5cb",
   "metadata": {},
   "outputs": [],
   "source": [
    "def pretty_str(sequence):\n",
    "    res = \"\"\n",
    "    for ent in sequence:\n",
    "        res+=str(ent.num) + \"-> \"\n",
    "    return res"
   ]
  },
  {
   "cell_type": "code",
   "execution_count": 8,
   "id": "d4252e23",
   "metadata": {},
   "outputs": [],
   "source": [
    "def default():\n",
    "    return [Entry(1, 1), Entry(2, 1)]"
   ]
  },
  {
   "cell_type": "code",
   "execution_count": 9,
   "id": "72033fd7",
   "metadata": {},
   "outputs": [
    {
     "name": "stdout",
     "output_type": "stream",
     "text": [
      "\n"
     ]
    }
   ],
   "source": [
    "seq = default()\n",
    "first_worked = add_terms(40)\n",
    "pretty_print()\n",
    "if (first_worked and not add_terms(500)):\n",
    "    pretty_print()"
   ]
  },
  {
   "cell_type": "code",
   "execution_count": 46,
   "id": "b9dd0d49",
   "metadata": {},
   "outputs": [
    {
     "name": "stdout",
     "output_type": "stream",
     "text": [
      "accessing indeces  -1 ,  7\n",
      "DIED\n"
     ]
    },
    {
     "data": {
      "text/plain": [
       "'1-> 1-> 3-> 4-> 2-> 5-> 3-> 5-> 9-> 3-> 6-> 14-> '"
      ]
     },
     "execution_count": 46,
     "metadata": {},
     "output_type": "execute_result"
    }
   ],
   "source": [
    "seq = [Entry(1, 2), Entry(2, 2)]\n",
    "add_terms(300)\n",
    "pretty_str(seq)"
   ]
  },
  {
   "cell_type": "code",
   "execution_count": 10,
   "id": "a4ae4241",
   "metadata": {},
   "outputs": [],
   "source": [
    "def display_wide_table(ourSeq):\n",
    "    print(\"  n | Q(n) | Q(n - (n-1)) | Q(n - (n-2)) | n - Q(n-1) | n - Q(n-2)\")\n",
    "    global seq\n",
    "    for ent in ourSeq:\n",
    "        if (ent.index > 2):\n",
    "            prev = seq[ent.index - 2]\n",
    "            doublePrev = seq[ent.index - 3]\n",
    "            firstTermIndex = ent.index - prev.num\n",
    "            secondTermIndex = ent.index - doublePrev.num\n",
    "            firstContributingNum = seq[firstTermIndex - 1].num\n",
    "            secondContributingNum = seq[secondTermIndex - 1].num\n",
    "            print(\"%3d | %4d |  %7d     |  %7d     | %7d    | %5d\" % (ent.index, ent.num, firstContributingNum, \\\n",
    "                                                     secondContributingNum, firstTermIndex, secondTermIndex))\n",
    "        else:\n",
    "            print(\"%3d | %4d |              |              |            |\" % (ent.index, ent.num))"
   ]
  },
  {
   "cell_type": "code",
   "execution_count": 11,
   "id": "701be13b",
   "metadata": {},
   "outputs": [
    {
     "name": "stdout",
     "output_type": "stream",
     "text": [
      "  n | Q(n) | Q(n - (n-1)) | Q(n - (n-2)) | n - Q(n-1) | n - Q(n-2)\n",
      "  1 |    1 |              |              |            |\n",
      "  2 |    1 |              |              |            |\n",
      "  3 |    2 |        1     |        1     |       2    |     2\n",
      "  4 |    3 |        1     |        2     |       2    |     3\n",
      "  5 |    3 |        1     |        2     |       2    |     3\n",
      "  6 |    4 |        2     |        2     |       3    |     3\n",
      "  7 |    5 |        2     |        3     |       3    |     4\n",
      "  8 |    5 |        2     |        3     |       3    |     4\n",
      "  9 |    6 |        3     |        3     |       4    |     4\n",
      " 10 |    6 |        3     |        3     |       4    |     5\n",
      " 11 |    6 |        3     |        3     |       5    |     5\n",
      " 12 |    8 |        4     |        4     |       6    |     6\n"
     ]
    }
   ],
   "source": [
    "display_wide_table(seq[:12])"
   ]
  },
  {
   "cell_type": "code",
   "execution_count": 12,
   "id": "39b69d24",
   "metadata": {},
   "outputs": [],
   "source": [
    "def display_ref_table(seq):\n",
    "    print(\"  n | Q(n) | references\")\n",
    "    for ent in seq:\n",
    "        cl = ent.least_ref() - (2 * ent.index)\n",
    "        print(\"%3d | %4d |\" % (ent.index, ent.num), ent.references)"
   ]
  },
  {
   "cell_type": "code",
   "execution_count": 13,
   "id": "69ee830d",
   "metadata": {},
   "outputs": [],
   "source": [
    "def convert_to_graphable(seq):\n",
    "    resx = []\n",
    "    resy = []\n",
    "    for ent in seq:\n",
    "        resx.append(ent.index)\n",
    "        resy.append(ent.num)\n",
    "    return (np.array(resx),np.array(resy))"
   ]
  },
  {
   "cell_type": "code",
   "execution_count": 14,
   "id": "d4561461",
   "metadata": {},
   "outputs": [],
   "source": [
    "def scatter(sequence):\n",
    "    graphable = convert_to_graphable(sequence)\n",
    "    plt.scatter(graphable[0], graphable[1])\n",
    "    plt.axline((0, 0), slope = 1)\n",
    "    plt.show()"
   ]
  },
  {
   "cell_type": "code",
   "execution_count": 15,
   "id": "a04e116a",
   "metadata": {},
   "outputs": [
    {
     "data": {
      "image/png": "[encoded data removed]",
      "text/plain": [
       "<Figure size 432x288 with 1 Axes>"
      ]
     },
     "metadata": {
      "needs_background": "light"
     },
     "output_type": "display_data"
    }
   ],
   "source": [
    "seq = default()\n",
    "add_terms(1000)\n",
    "scatter(seq)"
   ]
  },
  {
   "cell_type": "code",
   "execution_count": 16,
   "id": "b3c6e0ee",
   "metadata": {},
   "outputs": [
    {
     "data": {
      "image/png": "[encoded data removed]",
      "text/plain": [
       "<Figure size 432x288 with 1 Axes>"
      ]
     },
     "metadata": {
      "needs_background": "light"
     },
     "output_type": "display_data"
    }
   ],
   "source": [
    "seq = default()\n",
    "seq.append(Entry(3, 1))\n",
    "add_terms(1000)\n",
    "scatter(seq[:100])"
   ]
  },
  {
   "cell_type": "markdown",
   "id": "d4f0d3de",
   "metadata": {},
   "source": [
    "## 6:2 does not work"
   ]
  },
  {
   "cell_type": "code",
   "execution_count": 17,
   "id": "04700136",
   "metadata": {
    "scrolled": true
   },
   "outputs": [
    {
     "name": "stdout",
     "output_type": "stream",
     "text": [
      "accessing indeces  -1 ,  33\n",
      "DIED\n"
     ]
    },
    {
     "data": {
      "image/png": "[encoded data removed]",
      "text/plain": [
       "<Figure size 432x288 with 1 Axes>"
      ]
     },
     "metadata": {
      "needs_background": "light"
     },
     "output_type": "display_data"
    }
   ],
   "source": [
    "seq = default()\n",
    "seq.append(Entry(3, 2))\n",
    "seq.append(Entry(4, 3))\n",
    "seq.append(Entry(5, 5))\n",
    "seq.append(Entry(6, 2))\n",
    "add_terms(100)\n",
    "scatter(seq)\n"
   ]
  },
  {
   "cell_type": "markdown",
   "id": "8c895aed",
   "metadata": {},
   "source": [
    "### But 6:3 does"
   ]
  },
  {
   "cell_type": "code",
   "execution_count": 18,
   "id": "a8dabdf1",
   "metadata": {},
   "outputs": [
    {
     "data": {
      "image/png": "[encoded data removed]",
      "text/plain": [
       "<Figure size 432x288 with 1 Axes>"
      ]
     },
     "metadata": {
      "needs_background": "light"
     },
     "output_type": "display_data"
    }
   ],
   "source": [
    "seq = default()\n",
    "seq.append(Entry(3, 2))\n",
    "seq.append(Entry(4, 3))\n",
    "seq.append(Entry(5, 5))\n",
    "seq.append(Entry(6, 3))\n",
    "add_terms(100)\n",
    "scatter(seq)"
   ]
  },
  {
   "cell_type": "code",
   "execution_count": 19,
   "id": "1bc2b596",
   "metadata": {},
   "outputs": [],
   "source": [
    "def display_num_reference_list(seq):\n",
    "    for ent in seq:\n",
    "        print(str(ent.num_ref()) + \", \", end='')"
   ]
  },
  {
   "cell_type": "code",
   "execution_count": 20,
   "id": "42c1a3eb",
   "metadata": {},
   "outputs": [
    {
     "name": "stdout",
     "output_type": "stream",
     "text": [
      "1, 2, 2, 5, 3, 1, 5, 5, 6, 6, 2, 1, 2, 3, 5, 8, 8, 6, 3, 2, "
     ]
    }
   ],
   "source": [
    "display_num_reference_list(seq[:20])"
   ]
  },
  {
   "cell_type": "code",
   "execution_count": 21,
   "id": "4546870f",
   "metadata": {},
   "outputs": [],
   "source": [
    "class meta:\n",
    "    \n",
    "    def __init__(self, entry):\n",
    "        self.child = entry\n",
    "        \n",
    "    # conjecture: will always be 2 or more\n",
    "    def three_n_minus_largest_ref(self):\n",
    "        return 3 * self.child.index - self.child.greatest_ref()"
   ]
  },
  {
   "cell_type": "code",
   "execution_count": 22,
   "id": "d87d5b24",
   "metadata": {},
   "outputs": [],
   "source": [
    "def print_row(ent, *args):\n",
    "    print(\"%3d |%4d \" % (ent.index, ent.num), end='')\n",
    "    for field in args:\n",
    "        print(\"| %6d \" % (field), end='')\n",
    "    print()"
   ]
  },
  {
   "cell_type": "code",
   "execution_count": 23,
   "id": "9b553aaa",
   "metadata": {},
   "outputs": [
    {
     "name": "stdout",
     "output_type": "stream",
     "text": [
      "  1 |   1 |      9 |     -6 \n",
      "  2 |   1 |     10 |     -4 \n",
      "  3 |   2 |     13 |     -4 \n",
      "  4 |   3 |     14 |     -2 \n",
      "  5 |   5 |     11 |      4 \n",
      "  6 |   3 |     15 |      3 \n",
      "  7 |   4 |     20 |      1 \n",
      "  8 |   8 |     22 |      2 \n",
      "  9 |   6 |     25 |      2 \n",
      " 10 |   4 |     26 |      4 \n",
      " 11 |   9 |     23 |     10 \n",
      " 12 |  10 |     24 |     12 \n"
     ]
    }
   ],
   "source": [
    "def table1(seq):\n",
    "    for ent in seq:\n",
    "        m = meta(ent)\n",
    "        print_row(ent, ent.greatest_ref(), m.three_n_minus_largest_ref())\n",
    "        \n",
    "table1(seq[:12])"
   ]
  },
  {
   "cell_type": "code",
   "execution_count": 24,
   "id": "e5ba837b",
   "metadata": {},
   "outputs": [
    {
     "name": "stdout",
     "output_type": "stream",
     "text": [
      "106\n"
     ]
    }
   ],
   "source": [
    "print(len(seq))\n",
    "\n",
    "for ent in seq[400:]:\n",
    "    m = meta(ent)\n",
    "    if (m.three_n_minus_largest_ref() <= 1000):\n",
    "        print_row(ent, ent.greatest_ref(), m.three_n_minus_largest_ref())"
   ]
  },
  {
   "cell_type": "code",
   "execution_count": 25,
   "id": "353ac032",
   "metadata": {},
   "outputs": [
    {
     "data": {
      "text/plain": [
       "48"
      ]
     },
     "execution_count": 25,
     "metadata": {},
     "output_type": "execute_result"
    }
   ],
   "source": [
    "seq[-1].num"
   ]
  },
  {
   "cell_type": "code",
   "execution_count": 26,
   "id": "2c041886",
   "metadata": {},
   "outputs": [],
   "source": [
    "class StartData:\n",
    "    def __init__(self, seq, reached):\n",
    "        self.seq = seq.copy()\n",
    "        self.reached = reached\n",
    "        \n",
    "    def __str__(self):\n",
    "        return f\"reached {self.reached} with {pretty_str(self.seq)}\""
   ]
  },
  {
   "cell_type": "code",
   "execution_count": 27,
   "id": "ef05e828",
   "metadata": {},
   "outputs": [],
   "source": [
    "class Accumulator:\n",
    "    def __init__(self):\n",
    "        self.store = {};\n",
    "        \n",
    "    def add(self, level, start_seq, reached):\n",
    "        if (level - 3 not in self.store):\n",
    "            self.store[level - 3] = []\n",
    "        self.store[level - 3].append(StartData(start_seq, reached))\n",
    "        \n",
    "    def display(self):\n",
    "        for level in self.store:\n",
    "            print(f\"level {level + 2}:\")\n",
    "            for node in self.store[level]:\n",
    "                print(node)\n",
    "                \n",
    "    def ends_after(self, end_desired):\n",
    "        for level in self.store:\n",
    "            print(f\"level {level + 2}:\")\n",
    "            for node in self.store[level]:\n",
    "                if (node.reached >= end_desired):\n",
    "                    print(node)\n",
    "                    \n",
    "    def recurse_discovery(self, start_seq, max_level, test_to=100000):\n",
    "        index = len(start_seq) + 1\n",
    "        if (index > max_level):\n",
    "            return\n",
    "        for val in range(1, index + 2):\n",
    "            start_seq.append(Entry(index, val))\n",
    "            reached = highest_defined(start_seq, test_to=test_to)\n",
    "            if (reached > 0):\n",
    "                self.add(index, start_seq, reached)\n",
    "            else:\n",
    "                self.recurse_discovery(start_seq.copy(), index+1, max_level)\n",
    "            start_seq.pop()"
   ]
  },
  {
   "cell_type": "code",
   "execution_count": 28,
   "id": "f6035c92",
   "metadata": {},
   "outputs": [],
   "source": [
    "def highest_defined(test, test_to=100000):\n",
    "    global seq\n",
    "    seq = test.copy()\n",
    "    add_terms(test_to, sush=True)\n",
    "    if (len(seq) >= test_to):\n",
    "        return 0\n",
    "    return len(seq)"
   ]
  },
  {
   "cell_type": "code",
   "execution_count": 29,
   "id": "cad1c875",
   "metadata": {},
   "outputs": [],
   "source": [
    "acc = Accumulator()\n",
    "acc.recurse_discovery(default(), 2, test_to=100)"
   ]
  },
  {
   "cell_type": "code",
   "execution_count": 30,
   "id": "8e687fda",
   "metadata": {},
   "outputs": [],
   "source": [
    "acc.ends_after(5)"
   ]
  },
  {
   "cell_type": "code",
   "execution_count": 31,
   "id": "c20e7112",
   "metadata": {},
   "outputs": [],
   "source": [
    "def save_acc_as(name):\n",
    "    with open(name + \".json\", \"w\") as outfile:\n",
    "        outfile.write(\"{\")\n",
    "        for level in acc.store:\n",
    "            outfile.write(str(level) + \": [\");\n",
    "            for node in acc.store[level]:\n",
    "                outfile.write(\"{\")\n",
    "                outfile.write(\"start: \" + \"[\")\n",
    "                for ent in node.seq:\n",
    "                    outfile.write(str(ent.num) + \",\")\n",
    "                outfile.write(\"],\")\n",
    "                outfile.write(\"reached: \" + str(node.reached))\n",
    "                outfile.write(\"}\")\n",
    "            outfile.write(\"],\")\n",
    "        outfile.write(\"}\")\n",
    "    return True"
   ]
  },
  {
   "cell_type": "code",
   "execution_count": 32,
   "id": "c83a6775",
   "metadata": {},
   "outputs": [],
   "source": [
    "acc.ends_after(90000)"
   ]
  },
  {
   "cell_type": "code",
   "execution_count": 33,
   "id": "402618c5",
   "metadata": {},
   "outputs": [],
   "source": [
    "def gen_seq(arr):\n",
    "    seq = []\n",
    "    for (i, n) in enumerate(arr):\n",
    "        seq.append(Entry(i+1, n))\n",
    "    return seq"
   ]
  },
  {
   "cell_type": "markdown",
   "id": "c3167fef",
   "metadata": {},
   "source": [
    "1-> 1-> 1-> 2-> 2-> 2-> 1-> 1-> 4-> \n",
    "ends in 994"
   ]
  },
  {
   "cell_type": "markdown",
   "id": "2c0a0943",
   "metadata": {},
   "source": [
    "1-> 1-> 2-> 2-> 3-> 3-> 4-> 1-> \n",
    "reaches 99174"
   ]
  },
  {
   "cell_type": "code",
   "execution_count": 34,
   "id": "e5ca5faa",
   "metadata": {
    "scrolled": false
   },
   "outputs": [
    {
     "name": "stdout",
     "output_type": "stream",
     "text": [
      "\n",
      "accessing indeces  -313 ,  57748\n",
      "DIED\n"
     ]
    },
    {
     "data": {
      "image/png": "[encoded data removed]",
      "text/plain": [
       "<Figure size 432x288 with 1 Axes>"
      ]
     },
     "metadata": {
      "needs_background": "light"
     },
     "output_type": "display_data"
    }
   ],
   "source": [
    "seq = gen_seq([1,1,2,2,3,3, 4,1])\n",
    "pretty_print()\n",
    "add_terms(100000)\n",
    "scatter(seq)"
   ]
  },
  {
   "cell_type": "code",
   "execution_count": 47,
   "id": "87993aa8",
   "metadata": {},
   "outputs": [
    {
     "data": {
      "image/png": "[encoded data removed]",
      "text/plain": [
       "<Figure size 432x288 with 1 Axes>"
      ]
     },
     "metadata": {
      "needs_background": "light"
     },
     "output_type": "display_data"
    }
   ],
   "source": [
    "seq = default()\n",
    "add_terms(1000000)\n",
    "scatter(seq)"
   ]
  },
  {
   "cell_type": "code",
   "execution_count": 36,
   "id": "d3f9b0ee",
   "metadata": {},
   "outputs": [
    {
     "name": "stdout",
     "output_type": "stream",
     "text": [
      "  n | Q(n) | Q(n - (n-1)) | Q(n - (n-2)) | n - Q(n-1) | n - Q(n-2)\n",
      "99991 | 49604 |    25416     |    24188     |   51156    | 48932\n",
      "99992 | 52061 |    25414     |    26647     |   50388    | 51157\n",
      "99993 | 48058 |    24047     |    24011     |   47932    | 50389\n",
      "99994 | 50270 |    26258     |    24012     |   51936    | 47933\n",
      "99995 | 50276 |    25074     |    25202     |   49725    | 51937\n",
      "99996 | 48252 |    23466     |    24786     |   49720    | 49726\n",
      "99997 | 50847 |    24435     |    26412     |   51745    | 49721\n",
      "99998 | 50901 |    23738     |    27163     |   49151    | 51746\n",
      "99999 | 48456 |    24714     |    23742     |   49098    | 49152\n",
      "100000 | 48157 |    24894     |    23263     |   51544    | 49099\n",
      "100001 | 53471 |    27076     |    26395     |   51844    | 51545\n",
      "100002 | 48504 |    23247     |    25257     |   46531    | 51845\n"
     ]
    }
   ],
   "source": [
    "display_wide_table(seq[-12:])"
   ]
  }
 ],
 "metadata": {
  "kernelspec": {
   "display_name": "Python 3 (ipykernel)",
   "language": "python",
   "name": "python3"
  },
  "language_info": {
   "codemirror_mode": {
    "name": "ipython",
    "version": 3
   },
   "file_extension": ".py",
   "mimetype": "text/x-python",
   "name": "python",
   "nbconvert_exporter": "python",
   "pygments_lexer": "ipython3",
   "version": "3.7.3"
  }
 },
 "nbformat": 4,
 "nbformat_minor": 5
}
